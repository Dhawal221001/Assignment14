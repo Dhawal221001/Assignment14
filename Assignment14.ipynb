{
 "cells": [
  {
   "cell_type": "markdown",
   "id": "832f4eef-e7db-4c75-bd76-7e4f85ba9a8f",
   "metadata": {},
   "source": [
    "## Q1. What is multiprocessing in python? Why is it useful?"
   ]
  },
  {
   "cell_type": "markdown",
   "id": "37edf0c4-cba0-4465-a348-ecb39dab1c49",
   "metadata": {},
   "source": [
    "###  Multiprocessing in Python is a built_in package that allows the system to run multiple processes simultaneously. It enable the breaking of applications into smaller threads that can run independently.\n",
    "\n",
    "### Its helps in improving the performance of a program using multiple CPU's or CPU cores."
   ]
  },
  {
   "cell_type": "markdown",
   "id": "7d3dd8c5-b15c-446e-a60e-81188de92787",
   "metadata": {},
   "source": [
    "## Q2. What are the differences between multiprocessing and multithreading?"
   ]
  },
  {
   "cell_type": "markdown",
   "id": "aeb3080e-c6dd-4fd1-ab25-1b0c8f3987dc",
   "metadata": {},
   "source": [
    "### Multithreading is the process of running multiple threads simultaneously within single process. It refers to the ability of a processor to execute multiple threads concurrently, where each threads runs a process.\n",
    "\n",
    "### Multiprocessing is a process of running multiple processes simultaneously within a single thread. It refers to the ability of a system to run multiple processors in parallel, where each processor can run one or more threads."
   ]
  },
  {
   "cell_type": "markdown",
   "id": "f1044eb5-4ba3-401c-bdbb-67e66f951663",
   "metadata": {},
   "source": [
    "## Q3. Write a python code to create a process using the multiprocessing module."
   ]
  },
  {
   "cell_type": "code",
   "execution_count": 3,
   "id": "845c9e0b-5604-4d80-9411-c438e1b39174",
   "metadata": {},
   "outputs": [
    {
     "name": "stdout",
     "output_type": "stream",
     "text": [
      "[8, 27, 166375, 216, 343, 729000]\n"
     ]
    }
   ],
   "source": [
    "import multiprocessing\n",
    "\n",
    "def cube(x):\n",
    "    return x**3\n",
    "\n",
    "if __name__==\"__main__\":\n",
    "    with multiprocessing.Pool(processes=5) as pool:\n",
    "        out = pool.map(cube,[2,3,55,6,7,90])\n",
    "        print(out)"
   ]
  },
  {
   "cell_type": "markdown",
   "id": "3ea87599-e4d8-4d33-b014-4d4aef35b2c1",
   "metadata": {},
   "source": [
    "## Q4. What is a multiprocessing pool in python? Why is it used?"
   ]
  },
  {
   "cell_type": "markdown",
   "id": "80382565-7d02-4b3f-9138-27976f775cff",
   "metadata": {},
   "source": [
    "### Multiprocessing pool in python is in-built class in multiprocessing module. It is used for parallel execution of a function across multiple input values, distributing the input data across processes."
   ]
  },
  {
   "cell_type": "markdown",
   "id": "fcbaa52c-4d5f-400c-9a6f-0ec6be5b51eb",
   "metadata": {},
   "source": [
    "## Q5. How can we create a pool of worker processes in python using the multiprocessing module?"
   ]
  },
  {
   "cell_type": "markdown",
   "id": "47470234-e88e-4f2b-a61f-8e970b6e5b07",
   "metadata": {},
   "source": [
    "## We can create a pool of worker processes in python using the multiprocessing module by calling the constructor multiprocessing.Pool()"
   ]
  },
  {
   "cell_type": "markdown",
   "id": "85bfa2c7-bf48-4505-9df8-3bf7c84b4c06",
   "metadata": {},
   "source": [
    "## Q6. Write a python program to create 4 processes, each process should print a different number using the multiprocessing module in python."
   ]
  },
  {
   "cell_type": "code",
   "execution_count": 9,
   "id": "b8dabf48-a3d7-4526-9c81-64b0e3c7eabb",
   "metadata": {},
   "outputs": [
    {
     "name": "stdout",
     "output_type": "stream",
     "text": [
      "start\n",
      "\n",
      " 1\n",
      "\n",
      " \n",
      "5 \n",
      "2\n",
      "\n",
      "\n",
      "  \n",
      "96 \n",
      "\n",
      "\n",
      "3\n",
      "\n",
      "\n",
      "   \n",
      "13710 \n",
      "\n",
      "\n",
      "4\n",
      "\n",
      "\n",
      "\n",
      "   81411\n",
      "\n",
      "\n",
      "\n",
      "\n",
      "  1512\n",
      "\n",
      "\n",
      " 16\n",
      "end\n"
     ]
    }
   ],
   "source": [
    "import multiprocessing\n",
    " \n",
    "def process1():\n",
    "    for i in [1,2,3,4]:\n",
    "        print(\"\\n\",i)\n",
    "        \n",
    "def process2():\n",
    "    for i in [5,6,7,8]:\n",
    "        print(\"\\n\",i)\n",
    "    \n",
    "def process3():\n",
    "    for i in [9,10,11,12]:\n",
    "        print(\"\\n\",i)\n",
    "    \n",
    "def process4():\n",
    "    for i in [13,14,15,16]:\n",
    "        print(\"\\n\",i)\n",
    "    \n",
    "if __name__=='__main__':\n",
    "    p1=multiprocessing.Process(target=process1)\n",
    "    p2=multiprocessing.Process(target=process2)\n",
    "    p3=multiprocessing.Process(target=process3)\n",
    "    p4=multiprocessing.Process(target=process4)\n",
    "    print('start')\n",
    "    p1.start()\n",
    "    p2.start()\n",
    "    p3.start()\n",
    "    p4.start()\n",
    "    p1.join()\n",
    "    p2.join()\n",
    "    p3.join()\n",
    "    p4.join()\n",
    "    print('end')"
   ]
  },
  {
   "cell_type": "code",
   "execution_count": null,
   "id": "6edf31a8-fd0b-42a7-b2f8-1b7ef7e85db2",
   "metadata": {},
   "outputs": [],
   "source": []
  }
 ],
 "metadata": {
  "kernelspec": {
   "display_name": "Python 3 (ipykernel)",
   "language": "python",
   "name": "python3"
  },
  "language_info": {
   "codemirror_mode": {
    "name": "ipython",
    "version": 3
   },
   "file_extension": ".py",
   "mimetype": "text/x-python",
   "name": "python",
   "nbconvert_exporter": "python",
   "pygments_lexer": "ipython3",
   "version": "3.10.8"
  }
 },
 "nbformat": 4,
 "nbformat_minor": 5
}
